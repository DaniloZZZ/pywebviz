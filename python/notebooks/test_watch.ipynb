{
 "cells": [
  {
   "cell_type": "markdown",
   "metadata": {
    "toc": true
   },
   "source": [
    "<h1>Table of Contents<span class=\"tocSkip\"></span></h1>\n",
    "<div class=\"toc\"><ul class=\"toc-item\"><li><span><a href=\"#Test-connectivity\" data-toc-modified-id=\"Test-connectivity-1\"><span class=\"toc-item-num\">1&nbsp;&nbsp;</span>Test connectivity</a></span></li><li><span><a href=\"#Test-watching-legimens.Object\" data-toc-modified-id=\"Test-watching-legimens.Object-2\"><span class=\"toc-item-num\">2&nbsp;&nbsp;</span>Test watching legimens.Object</a></span></li><li><span><a href=\"#Changing-sys.switchinterval\" data-toc-modified-id=\"Changing-sys.switchinterval-3\"><span class=\"toc-item-num\">3&nbsp;&nbsp;</span>Changing sys.switchinterval</a></span></li><li><span><a href=\"#Simple-object-watch\" data-toc-modified-id=\"Simple-object-watch-4\"><span class=\"toc-item-num\">4&nbsp;&nbsp;</span>Simple object watch</a></span></li></ul></div>"
   ]
  },
  {
   "cell_type": "code",
   "execution_count": 1,
   "metadata": {
    "ExecuteTime": {
     "end_time": "2020-05-15T07:02:19.150806Z",
     "start_time": "2020-05-15T07:02:18.261692Z"
    }
   },
   "outputs": [
    {
     "name": "stdout",
     "output_type": "stream",
     "text": [
      "No module named 'bokeh'\n"
     ]
    }
   ],
   "source": [
    "from libvis import Vis\n",
    "import libvis\n",
    "import json\n",
    "import numpy as np\n",
    "\n",
    "from legimens.Object import ref\n",
    "from legimens import Object\n",
    "\n",
    "%load_ext autoreload\n",
    "%autoreload 2"
   ]
  },
  {
   "cell_type": "code",
   "execution_count": 2,
   "metadata": {
    "ExecuteTime": {
     "end_time": "2020-05-15T07:02:19.223219Z",
     "start_time": "2020-05-15T07:02:19.152026Z"
    }
   },
   "outputs": [
    {
     "name": "stdout",
     "output_type": "stream",
     "text": [
      "Starting http at 7000\n",
      "2020-05-15 02:02:19.171 | INFO     | legimens.websocket.server:start_server:33 - Starting ws server at localhost:7700\n"
     ]
    }
   ],
   "source": [
    "vis = Vis(ws_port=7700, vis_port=7000)\n",
    "vis.start()"
   ]
  },
  {
   "cell_type": "markdown",
   "metadata": {},
   "source": [
    "## Test connectivity"
   ]
  },
  {
   "cell_type": "code",
   "execution_count": 3,
   "metadata": {
    "ExecuteTime": {
     "end_time": "2020-05-15T07:02:25.528255Z",
     "start_time": "2020-05-15T07:02:25.428785Z"
    }
   },
   "outputs": [],
   "source": [
    "vis.vars.image = 1\n"
   ]
  },
  {
   "cell_type": "markdown",
   "metadata": {},
   "source": [
    "## Test watching legimens.Object\n"
   ]
  },
  {
   "cell_type": "code",
   "execution_count": 4,
   "metadata": {
    "ExecuteTime": {
     "end_time": "2020-05-15T07:02:30.689057Z",
     "start_time": "2020-05-15T07:02:30.665030Z"
    }
   },
   "outputs": [
    {
     "name": "stdout",
     "output_type": "stream",
     "text": [
      "2020-05-15 02:02:30.758 | INFO     | legimens.App:_handler:74 - New ws connection of /Legi_0x7f30399864a0 from ::1\n",
      "2020-05-15 02:02:30.765 | INFO     | legimens.App:_handle_obj_ref:105 - Yield initial update {\"x\": {\"type\": \"Object\", \"value\": 1}}\n"
     ]
    }
   ],
   "source": [
    "\n",
    "class Var(libvis.modules.BaseModule):\n",
    "    def _prepare_send(self, name, value):\n",
    "        return name, {'type':'Object','value':value}\n",
    "\n",
    "x = Var(x=1)\n",
    "vis.app.watch_obj(x)\n",
    "vis.vars.x = x"
   ]
  },
  {
   "cell_type": "code",
   "execution_count": 5,
   "metadata": {
    "ExecuteTime": {
     "end_time": "2020-05-15T07:02:34.069321Z",
     "start_time": "2020-05-15T07:02:31.879802Z"
    }
   },
   "outputs": [],
   "source": [
    "for i in range(100000000//3):\n",
    "    x['x'] = i"
   ]
  },
  {
   "cell_type": "code",
   "execution_count": null,
   "metadata": {
    "ExecuteTime": {
     "end_time": "2020-05-15T07:02:06.174425Z",
     "start_time": "2020-05-15T07:02:05.844Z"
    }
   },
   "outputs": [],
   "source": [
    "vis.app._watch_poll_delay = .1\n",
    "type(vis.app.vars)"
   ]
  },
  {
   "cell_type": "markdown",
   "metadata": {},
   "source": [
    "## Changing sys.switchinterval \n",
    "determines how often we switch between threads to send updates\n",
    "\n",
    "Try to set larger value and run previous tests"
   ]
  },
  {
   "cell_type": "code",
   "execution_count": null,
   "metadata": {
    "ExecuteTime": {
     "end_time": "2020-05-15T07:02:06.193075Z",
     "start_time": "2020-05-15T07:02:05.847Z"
    }
   },
   "outputs": [],
   "source": [
    "import sys\n",
    "sys.getswitchinterval()"
   ]
  },
  {
   "cell_type": "code",
   "execution_count": null,
   "metadata": {
    "ExecuteTime": {
     "end_time": "2020-05-15T07:02:06.194651Z",
     "start_time": "2020-05-15T07:02:05.849Z"
    }
   },
   "outputs": [],
   "source": [
    "sys.setswitchinterval(0.04)"
   ]
  },
  {
   "cell_type": "code",
   "execution_count": null,
   "metadata": {
    "ExecuteTime": {
     "end_time": "2020-05-15T07:02:06.230045Z",
     "start_time": "2020-05-15T07:02:05.851Z"
    }
   },
   "outputs": [],
   "source": [
    "vis.vars.foo=2"
   ]
  },
  {
   "cell_type": "markdown",
   "metadata": {},
   "source": [
    "## Simple object watch\n",
    "\n",
    "Note that CPython has a limitation in it's implementation of mutable objects:\n",
    "it can't create a weakref for base types.\n",
    "This is fixed for mutables in those additional classes\n",
    "\n",
    "For more info check: https://mail.python.org/pipermail/python-list/2005-March/346298.html"
   ]
  },
  {
   "cell_type": "code",
   "execution_count": 6,
   "metadata": {
    "ExecuteTime": {
     "end_time": "2020-05-15T07:02:39.524015Z",
     "start_time": "2020-05-15T07:02:39.441935Z"
    }
   },
   "outputs": [],
   "source": [
    "class List(list):\n",
    "    name='VisVar'\n",
    "    pass\n",
    "\n",
    "libvis.interface.add_serializer(List, ref)\n",
    "def ser_type(value):\n",
    "    return json.dumps({'value':value})\n",
    "    return str(value)\n",
    "vis.app.serialize_value = ser_type\n",
    "\n",
    "li = List()\n",
    "\n"
   ]
  },
  {
   "cell_type": "code",
   "execution_count": 7,
   "metadata": {
    "ExecuteTime": {
     "end_time": "2020-05-15T07:02:41.254328Z",
     "start_time": "2020-05-15T07:02:41.139117Z"
    }
   },
   "outputs": [
    {
     "name": "stdout",
     "output_type": "stream",
     "text": [
      "2020-05-15 02:02:41.257 | ERROR    | legimens.App:_handler:89 - Handling <class 'trio_websocket._impl.ConnectionClosed'> error:CloseReason<code=1000, name=NORMAL_CLOSURE, reason=None>\n",
      "2020-05-15 02:02:41.267 | INFO     | legimens.App:_handler:74 - New ws connection of /Legi_0x7f303b29c9a0 from ::1\n",
      "2020-05-15 02:02:41.269 | INFO     | legimens.App:_handle_obj_ref:105 - Yield initial update {\"value\": []}\n"
     ]
    }
   ],
   "source": [
    "vis.app.watch_obj(li)\n",
    "vis.vars.x = li"
   ]
  },
  {
   "cell_type": "code",
   "execution_count": 12,
   "metadata": {
    "ExecuteTime": {
     "end_time": "2020-05-15T07:02:46.618131Z",
     "start_time": "2020-05-15T07:02:46.509882Z"
    }
   },
   "outputs": [],
   "source": [
    "li.append(len(li))"
   ]
  },
  {
   "cell_type": "code",
   "execution_count": 15,
   "metadata": {
    "ExecuteTime": {
     "end_time": "2020-05-15T07:02:52.236851Z",
     "start_time": "2020-05-15T07:02:52.131446Z"
    }
   },
   "outputs": [
    {
     "data": {
      "text/plain": [
       "2"
      ]
     },
     "execution_count": 15,
     "metadata": {},
     "output_type": "execute_result"
    }
   ],
   "source": [
    "li.pop()"
   ]
  },
  {
   "cell_type": "markdown",
   "metadata": {},
   "source": [
    "Values should be instantly updated in x variable"
   ]
  },
  {
   "cell_type": "code",
   "execution_count": null,
   "metadata": {},
   "outputs": [],
   "source": []
  }
 ],
 "metadata": {
  "kernelspec": {
   "display_name": "Python 3",
   "language": "python",
   "name": "python3"
  },
  "language_info": {
   "codemirror_mode": {
    "name": "ipython",
    "version": 3
   },
   "file_extension": ".py",
   "mimetype": "text/x-python",
   "name": "python",
   "nbconvert_exporter": "python",
   "pygments_lexer": "ipython3",
   "version": "3.8.2"
  },
  "toc": {
   "base_numbering": 1,
   "nav_menu": {},
   "number_sections": true,
   "sideBar": true,
   "skip_h1_title": false,
   "title_cell": "Table of Contents",
   "title_sidebar": "Contents",
   "toc_cell": true,
   "toc_position": {
    "height": "calc(100% - 180px)",
    "left": "10px",
    "top": "150px",
    "width": "509.594px"
   },
   "toc_section_display": true,
   "toc_window_display": true
  }
 },
 "nbformat": 4,
 "nbformat_minor": 2
}
